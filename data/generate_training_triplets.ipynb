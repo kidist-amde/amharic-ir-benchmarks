{
 "cells": [
  {
   "cell_type": "code",
   "execution_count": 1,
   "metadata": {},
   "outputs": [],
   "source": [
    "import os\n",
    "import csv\n",
    "import random\n",
    "import json"
   ]
  },
  {
   "cell_type": "code",
   "execution_count": 8,
   "metadata": {},
   "outputs": [],
   "source": [
    "from pathlib import Path\n",
    "\n",
    "# Base directory for data\n",
    "BASE_DIR = Path(\"./dataset/processed/msmarco-amharic-news_dataset\")\n",
    "\n",
    "# Define file paths\n",
    "BM25_RANKINGS_PATH = Path(\"./models/bm25/outputs/bm25_rankings.tsv\")  \n",
    "QRELS_PATH = BASE_DIR / \"qrels_train.tsv\"\n",
    "JSONL_OUTPUT_PATH = Path(\"outputs/bm25_triplets.jsonl\")\n",
    "CSV_OUTPUT_PATH = Path(\"outputs/bm25_triplets.tsv\")\n",
    "\n",
    "# Ensure the outputs directory exists\n",
    "OUTPUT_DIR = Path(\"outputs\")\n",
    "OUTPUT_DIR.mkdir(parents=True, exist_ok=True)\n"
   ]
  },
  {
   "cell_type": "code",
   "execution_count": 9,
   "metadata": {},
   "outputs": [
    {
     "name": "stdout",
     "output_type": "stream",
     "text": [
      "Loaded 39871 queries with positive documents.\n"
     ]
    }
   ],
   "source": [
    "# Load QRELs (Ground truth relevant documents)\n",
    "qid2positives = {}\n",
    "with open(QRELS_PATH, \"r\", encoding=\"utf-8\") as f:\n",
    "    for line in f:\n",
    "        qid, _, doc_id, label = map(int, line.strip().split())\n",
    "        if label == 1:\n",
    "            qid2positives.setdefault(qid, []).append(doc_id)\n",
    "print(f\"Loaded {len(qid2positives)} queries with positive documents.\")"
   ]
  },
  {
   "cell_type": "code",
   "execution_count": 10,
   "metadata": {},
   "outputs": [
    {
     "name": "stdout",
     "output_type": "stream",
     "text": [
      "Loaded 39729 queries with BM25 ranking results.\n"
     ]
    }
   ],
   "source": [
    "# Load BM25 Retrieval Results (store as tuples: (doc_id, rank))\n",
    "bm25_results = {}\n",
    "with open(BM25_RANKINGS_PATH, \"r\", encoding=\"utf-8\") as f:\n",
    "    reader = csv.reader(f, delimiter=\"\\t\")\n",
    "    for row in reader:\n",
    "        if len(row) < 3:\n",
    "            continue\n",
    "        qid, doc_id, rank = map(int, row[:3])\n",
    "        bm25_results.setdefault(qid, []).append((doc_id, rank))  # Store doc_id and rank as a tuple\n",
    "\n",
    "print(f\"Loaded {len(bm25_results)} queries with BM25 ranking results.\")"
   ]
  },
  {
   "cell_type": "code",
   "execution_count": 11,
   "metadata": {},
   "outputs": [
    {
     "name": "stdout",
     "output_type": "stream",
     "text": [
      "QREL query IDs: [0, 1, 2, 3, 4]\n",
      "BM25 query IDs: [0, 1, 2, 3, 4]\n"
     ]
    }
   ],
   "source": [
    "print(\"QREL query IDs:\", list(qid2positives.keys())[:5])\n",
    "print(\"BM25 query IDs:\", list(bm25_results.keys())[:5])"
   ]
  },
  {
   "cell_type": "code",
   "execution_count": 12,
   "metadata": {},
   "outputs": [
    {
     "name": "stdout",
     "output_type": "stream",
     "text": [
      "No BM25 results: 142\n",
      "No valid negative samples: 0\n"
     ]
    }
   ],
   "source": [
    "import random\n",
    "\n",
    "# Generate triplets (Query, Positive, 5 Negatives)\n",
    "No_BM25_results = 0\n",
    "No_valid_negative_samples = 0\n",
    "triplets = []\n",
    "NUM_NEGATIVES = 5  # Number of negative samples per query\n",
    "\n",
    "# Set seed for reproducibility\n",
    "random.seed(42)\n",
    "\n",
    "for qid, pos_docs in qid2positives.items():  # Each query has at least one positive document\n",
    "    if qid not in bm25_results:\n",
    "        No_BM25_results += 1\n",
    "        continue  # Skip if BM25 retrieved nothing\n",
    "\n",
    "    pos_doc_id = pos_docs[0]  # Since each query has only one judged positive\n",
    "\n",
    "    # Extract BM25 results for this query and filter based on rank\n",
    "    bm25_ranked_docs = [(doc_id, rank) for doc_id, rank in bm25_results[qid] if rank > 10]  # Ignore top 10\n",
    "\n",
    "    # Extract only doc IDs (excluding rank) and filter out positive document\n",
    "    neg_candidates = [doc_id for doc_id, _ in bm25_ranked_docs if doc_id != pos_doc_id]\n",
    "\n",
    "    if len(neg_candidates) < NUM_NEGATIVES:\n",
    "        print(f\"No enough valid negative samples for QID {qid}. Skipping.\")\n",
    "        No_valid_negative_samples += 1\n",
    "        continue\n",
    "\n",
    "    # Select 5 negative documents randomly\n",
    "    selected_negatives = random.sample(neg_candidates, NUM_NEGATIVES)\n",
    "\n",
    "    # Create triplets for each negative sample\n",
    "    for neg_doc_id in selected_negatives:\n",
    "        triplets.append([qid, pos_doc_id, neg_doc_id])\n",
    "\n",
    "print(\"No BM25 results:\", No_BM25_results)\n",
    "print(\"No valid negative samples:\", No_valid_negative_samples)\n",
    "print(f\"Total triplets generated: {len(triplets)}\")\n"
   ]
  },
  {
   "cell_type": "code",
   "execution_count": 13,
   "metadata": {},
   "outputs": [
    {
     "name": "stdout",
     "output_type": "stream",
     "text": [
      "Saved 39729 triplets:\n",
      "JSONL: outputs/bm25_triplets.jsonl\n",
      "CSV: outputs/bm25_triplets.tsv\n"
     ]
    }
   ],
   "source": [
    "# Save JSONL format\n",
    "with open(JSONL_OUTPUT_PATH, \"w\", encoding=\"utf-8\") as f:\n",
    "    for triplet in triplets:\n",
    "        f.write(json.dumps(triplet) + \"\\n\")\n",
    "\n",
    "# Save CSV format\n",
    "with open(CSV_OUTPUT_PATH, \"w\", encoding=\"utf-8\") as f:\n",
    "    writer = csv.writer(f, delimiter=\"\\t\")\n",
    "    writer.writerows(triplets)\n",
    "\n",
    "print(f\"Saved {len(triplets)} triplets:\")\n",
    "print(f\"JSONL: {JSONL_OUTPUT_PATH}\")\n",
    "print(f\"CSV: {CSV_OUTPUT_PATH}\")"
   ]
  },
  {
   "cell_type": "code",
   "execution_count": null,
   "metadata": {},
   "outputs": [],
   "source": []
  }
 ],
 "metadata": {
  "kernelspec": {
   "display_name": "amharic_colbert",
   "language": "python",
   "name": "python3"
  },
  "language_info": {
   "codemirror_mode": {
    "name": "ipython",
    "version": 3
   },
   "file_extension": ".py",
   "mimetype": "text/x-python",
   "name": "python",
   "nbconvert_exporter": "python",
   "pygments_lexer": "ipython3",
   "version": "3.9.20"
  }
 },
 "nbformat": 4,
 "nbformat_minor": 2
}
