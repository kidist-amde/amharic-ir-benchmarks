{
  "cells": [
    {
      "cell_type": "code",
      "execution_count": null,
      "metadata": {
        "id": "vos8ORFrA-0P"
      },
      "outputs": [],
      "source": [
        "! pip install -Uq torch torchvision tensorboard sentence-transformers datasets"
      ]
    },
    {
      "cell_type": "code",
      "execution_count": null,
      "metadata": {
        "id": "Tv6KE-G6V6LZ"
      },
      "outputs": [],
      "source": [
        "import wandb\n",
        "wandb.init(mode=\"disabled\")"
      ]
    },
    {
      "cell_type": "markdown",
      "metadata": {
        "id": "_jlYwO8mBWI4"
      },
      "source": [
        "#### **Create and Prepare embedding dataset**"
      ]
    },
    {
      "cell_type": "code",
      "execution_count": null,
      "metadata": {
        "id": "RAZEttOuBNx4",
        "colab": {
          "base_uri": "https://localhost:8080/"
        },
        "outputId": "90e4e6da-c1bd-4977-a2cf-8909038087fb"
      },
      "outputs": [
        {
          "output_type": "stream",
          "name": "stderr",
          "text": [
            "/usr/local/lib/python3.11/dist-packages/huggingface_hub/utils/_auth.py:104: UserWarning: \n",
            "Error while fetching `HF_TOKEN` secret value from your vault: 'Requesting secret HF_TOKEN timed out. Secrets can only be fetched when running from the Colab UI.'.\n",
            "You are not authenticated with the Hugging Face Hub in this notebook.\n",
            "If the error persists, please let us know by opening an issue on GitHub (https://github.com/huggingface/huggingface_hub/issues/new).\n",
            "  warnings.warn(\n"
          ]
        },
        {
          "output_type": "execute_result",
          "data": {
            "text/plain": [
              "Dataset({\n",
              "    features: ['doc_no', 'doc_text', 'relevant_topic_nos', 'relevant_topic_titles', 'relevant_topic_descriptions', 'relevant_topic_narratives', 'length'],\n",
              "    num_rows: 12192\n",
              "})"
            ]
          },
          "metadata": {},
          "execution_count": 3
        }
      ],
      "source": [
        "from datasets import load_dataset\n",
        "import unicodedata\n",
        "\n",
        "dataset = load_dataset(\"rasyosef/2AIRTC-Amharic-Adhoc-Information-Retrieval-Test-Collection\", split=\"documents\")\n",
        "dataset = dataset.map(lambda row: {\"doc_text\": unicodedata.normalize(\"NFKD\", row[\"doc_text\"])})#.select(range(100))\n",
        "dataset = dataset.map(lambda row: {\"length\": len(row['doc_text'].split())})#.select(range(100))\n",
        "dataset = dataset.filter(lambda row: row['length'] < 1200)\n",
        "dataset"
      ]
    },
    {
      "cell_type": "code",
      "execution_count": null,
      "metadata": {
        "id": "q9z4BIHdzs1I",
        "colab": {
          "base_uri": "https://localhost:8080/",
          "height": 35
        },
        "outputId": "d8cb1a47-83e4-45e6-a007-fbbc1aaf3352"
      },
      "outputs": [
        {
          "output_type": "execute_result",
          "data": {
            "text/plain": [
              "'5eb63bbbe01eeed093cb22bb8f5acdc3'"
            ],
            "application/vnd.google.colaboratory.intrinsic+json": {
              "type": "string"
            }
          },
          "metadata": {},
          "execution_count": 4
        }
      ],
      "source": [
        "import hashlib\n",
        "\n",
        "def md5(text):\n",
        " return hashlib.md5(text.strip().encode()).hexdigest()\n",
        "\n",
        "md5(\"hello world \")"
      ]
    },
    {
      "cell_type": "code",
      "execution_count": null,
      "metadata": {
        "id": "YI7loS1uzyyf",
        "colab": {
          "base_uri": "https://localhost:8080/"
        },
        "outputId": "a3c03ed6-bd6c-49cf-8cda-545f6233ab46"
      },
      "outputs": [
        {
          "output_type": "execute_result",
          "data": {
            "text/plain": [
              "Dataset({\n",
              "    features: ['doc_no', 'doc_text', 'relevant_topic_nos', 'relevant_topic_titles', 'relevant_topic_descriptions', 'relevant_topic_narratives', 'length', 'hash_id'],\n",
              "    num_rows: 12192\n",
              "})"
            ]
          },
          "metadata": {},
          "execution_count": 5
        }
      ],
      "source": [
        "dataset = dataset.map(lambda row: {\"hash_id\": md5(row[\"doc_text\"])})\n",
        "dataset"
      ]
    },
    {
      "cell_type": "code",
      "execution_count": null,
      "metadata": {
        "id": "FOtcMHDW0Ntk",
        "colab": {
          "base_uri": "https://localhost:8080/"
        },
        "outputId": "c0d3b213-a37a-4e15-cbbd-8ae59783ccb8"
      },
      "outputs": [
        {
          "output_type": "execute_result",
          "data": {
            "text/plain": [
              "11036"
            ]
          },
          "metadata": {},
          "execution_count": 6
        }
      ],
      "source": [
        "len(set(dataset[\"hash_id\"]))"
      ]
    },
    {
      "cell_type": "code",
      "execution_count": null,
      "metadata": {
        "id": "1VuvlZ3X0uph",
        "colab": {
          "base_uri": "https://localhost:8080/"
        },
        "outputId": "ae9cbc91-a3b9-43dc-b7a1-8b259dad1685"
      },
      "outputs": [
        {
          "output_type": "execute_result",
          "data": {
            "text/plain": [
              "11036"
            ]
          },
          "metadata": {},
          "execution_count": 7
        }
      ],
      "source": [
        "selected_rows = []\n",
        "article_ids = set()\n",
        "\n",
        "for row in dataset:\n",
        "  if row[\"hash_id\"] not in article_ids:\n",
        "    selected_rows.append(row)\n",
        "  article_ids.add(row[\"hash_id\"])\n",
        "\n",
        "len(selected_rows)"
      ]
    },
    {
      "cell_type": "code",
      "execution_count": null,
      "metadata": {
        "id": "fqqTng4A1GbG"
      },
      "outputs": [],
      "source": [
        "# from datasets import Dataset\n",
        "\n",
        "# dataset = Dataset.from_list(selected_rows)\n",
        "# dataset"
      ]
    },
    {
      "cell_type": "code",
      "execution_count": null,
      "metadata": {
        "id": "hZJqLTJ6txHf",
        "colab": {
          "base_uri": "https://localhost:8080/"
        },
        "outputId": "0aad353d-89fd-47b8-9840-ddf3e5835821"
      },
      "outputs": [
        {
          "output_type": "execute_result",
          "data": {
            "text/plain": [
              "('10  እንግዲህ ወንድሞች፣ አባቶቻችን ሁሉ ከደመና በታች እንደነበሩና ሁሉም በባሕር መካከል እንዳለፉ ታውቁ ዘንድ እወዳለሁ፤\\n2  ሁሉም ከሙሴ ጋር በመተባበር በደመናውና በባሕሩ ተጠመቁ፤\\n3  ደግሞም ሁሉም አንድ ዓይነት መንፈሳዊ ምግብ ተመገቡ፤\\n4  በተጨማሪም ሁሉም አንድ ዓይነት መንፈሳዊ መጠጥ ጠጡ። ይከተላቸው ከነበረው መንፈሳዊ ዓለት ይጠጡ ነበርና፤ ይህም ዓለት ክርስቶስን ያመለክታል።\\n5  ይሁንና አምላክ በአብዛኞቹ ስላልተደሰተ በምድረ በዳ ወድቀው ቀርተዋል።\\n6  እነሱ ጎጂ የሆኑ ነገሮችን እንደተመኙ እኛም እንዳንመኝ እነዚህ ነገሮች ለእኛ ምሳሌ ሆነውልናል።\\n7  “ሕዝቡ ሊበሉና ሊጠጡ ተቀመጡ። ከዚያም ሊጨፍሩ ተነሱ” ተብሎ እንደተጻፈው ከእነሱ አንዳንዶቹ እንዳደረጉት ጣዖት አምላኪዎች አትሁኑ።\\n8  ከእነሱ አንዳንዶቹ የፆታ ብልግና ፈጽመው ከመካከላቸው 23,000 የሚሆኑት በአንድ ቀን እንደረገፉ እኛም የፆታ ብልግና አንፈጽም።\\n9  ከእነሱ አንዳንዶቹ ይሖዋን ተፈታትነው በእባቦች እንደጠፉ እኛም አንፈታተነው።\\n10  በተጨማሪም ከእነሱ አንዳንዶቹ በማጉረምረማቸው በአጥፊው እንደጠፉ አጉረምራሚዎች አትሁኑ።\\n11  እነዚህ ነገሮች ምሳሌ ይሆኑ ዘንድ በእነሱ ላይ ደረሱ፤ የተጻፉትም የሥርዓቶቹ ፍጻሜ የደረሰብንን እኛን ለማስጠንቀቅ ነው።\\n12  በመሆኑም የቆመ የሚመስለው እንዳይወድቅ ይጠንቀቅ።\\n13  በሰው ሁሉ ላይ ከሚደርሰው ፈተና የተለየ ፈተና አልደረሰባችሁም። ይሁንና አምላክ ታማኝ ነው፤ ልትሸከሙት ከምትችሉት በላይ ፈተና እንዲደርስባችሁ አይፈቅድም፤ ከዚህ ይልቅ ፈተናውን በጽናት መቋቋም እንድትችሉ ፈተና ሲደርስባችሁ መውጫ መንገዱን ያዘጋጅላችኋል።\\n14  ስለዚህ የተወደዳችሁ ወንድሞቼ፣ ከጣዖት አምልኮ ሽሹ።\\n15  ይህን የምናገረው ማስተዋል ላላቸው ሰዎች ነው፤ የምናገረው ነገር ትክክል ይሁን አይሁን እናንተ ራሳችሁ ፍረዱ።\\n16  የምንባርከው የበረከት ጽዋ ከክርስቶስ ደም መቋደስ አይደለም? የምንቆርሰውስ ቂጣ ከክርስቶስ አካል መቋደስ አይደለም?\\n17  ምክንያቱም እኛ ብዙ ብንሆንም ቂጣው አንድ ስለሆነ አንድ አካል ነን፤ ሁላችንም የምንካፈለው ከዚሁ አንድ ቂጣ ነውና።\\n18  እስቲ ሥጋዊ እስራኤላውያንን ተመልከቱ፦ መሥዋዕቱን የሚበሉት ከመሠዊያው ጋር ተቋዳሾች አይደሉም?\\n19  እንግዲህ ምን እያልኩ ነው? ለጣዖት የተሠዋ ነገር የተለየ ፋይዳ አለው ማለቴ ነው? ወይስ ጣዖት ዋጋ አለው ማለቴ ነው?\\n20  እንዲህ ማለቴ አይደለም፤ ከዚህ ይልቅ አሕዛብ መሥዋዕት አድርገው የሚያቀርቧቸውን ነገሮች የሚሠዉት ለአምላክ ሳይሆን ለአጋንንት ነው ማለቴ ነው፤ ከአጋንንት ጋር እንድትተባበሩ ደግሞ አልፈልግም።\\n21  የይሖዋን ጽዋና የአጋንንትን ጽዋ መጠጣት አትችሉም፤ “ከይሖዋ ማዕድ” እና ከአጋንንት ማዕድ መካፈል አትችሉም።\\n22  ወይስ ‘ይሖዋን እያስቀናነው ነው’? እኛ ከእሱ ይበልጥ ብርቱዎች ነን እንዴ?\\n23  ሁሉም ነገር ተፈቅዷል፤ ሆኖም ሁሉም ነገር ይጠቅማል ማለት አይደለም። ሁሉም ነገር ተፈቅዷል፤ ሆኖም ሁሉም ነገር ያንጻል ማለት አይደለም።\\n24  እያንዳንዱ ሰው ምንጊዜም የራሱን ጥቅም ሳይሆን የሌላውን ሰው ጥቅም ይፈልግ።\\n25  ከሕሊናችሁ የተነሳ ምንም ጥያቄ ሳታነሱ በሥጋ ገበያ የሚሸጠውን ማንኛውንም ነገር ብሉ፤\\n26  “ምድርና በውስጧ ያለው ነገር ሁሉ የይሖዋ ነውና።”\\n27  አማኝ ያልሆነ ሰው ቢጋብዛችሁና መሄድ ብትፈልጉ ከሕሊናችሁ የተነሳ ምንም ጥያቄ ሳታነሱ የቀረበላችሁን ሁሉ ብሉ።\\n28  ይሁንና አንድ ሰው “ይህ መሥዋዕት ሆኖ የቀረበ ነው” ቢላችሁ ይህን ለነገራችሁ ሰውና ለሕሊና ስትሉ አትብሉ።\\n29  እንዲህ ስል ስለ ራሳችሁ ሕሊና ሳይሆን ስለ ሌላው ሰው ሕሊና መናገሬ ነው። ነፃነቴ በሌላው ሰው ሕሊና ለምን ይፈረድበት?\\n30  አመስግኜ የምበላ ከሆነ ባመሰገንኩበት ነገር ለምን እነቀፋለሁ?\\n31  ስለዚህ ስትበሉም ሆነ ስትጠጡ ወይም ማንኛውንም ነገር ስታደርጉ ሁሉንም ነገር ለአምላክ ክብር አድርጉ።\\n32  ለአይሁዳውያንም ሆነ ለግሪካውያን እንዲሁም ለአምላክ ጉባኤ እንቅፋት አትሁኑ፤\\n33  እኔ ብዙዎች እንዲድኑ የእነሱን እንጂ የራሴን ጥቅም ሳልፈልግ በማደርገው ነገር ሁሉ፣ ሁሉንም ሰው ለማስደሰት እንደምጥር እናንተም እንዲሁ አድርጉ።',\n",
              " '10  እንግዲህ ወንድሞች፣ አባቶቻችን ሁሉ ከደመና በታች እንደነበሩና ሁሉም በባሕር መካከል እንዳለፉ ታውቁ ዘንድ እወዳለሁ፤\\n2  ሁሉም ከሙሴ ጋር በመተባበር በደመናውና በባሕሩ ተጠመቁ፤\\n3  ደግሞም ሁሉም አንድ ዓይነት መንፈሳዊ ምግብ ተመገቡ፤\\n4  በተጨማሪም ሁሉም አንድ ዓይነት መንፈሳዊ መጠጥ ጠጡ። ይከተላቸው ከነበረው መንፈሳዊ ዓለት ይጠጡ ነበርና፤ ይህም ዓለት ክርስቶስን ያመለክታል።\\n5  ይሁንና አምላክ በአብዛኞቹ ስላልተደሰተ በምድረ በዳ ወድቀው ቀርተዋል።\\n6  እነሱ ጎጂ የሆኑ ነገሮችን እንደተመኙ እኛም እንዳንመኝ እነዚህ ነገሮች ለእኛ ምሳሌ ሆነውልናል።\\n7  “ሕዝቡ ሊበሉና ሊጠጡ ተቀመጡ። ከዚያም ሊጨፍሩ ተነሱ” ተብሎ እንደተጻፈው ከእነሱ አንዳንዶቹ እንዳደረጉት ጣዖት አምላኪዎች አትሁኑ።\\n8  ከእነሱ አንዳንዶቹ የፆታ ብልግና ፈጽመው ከመካከላቸው 23,000 የሚሆኑት በአንድ ቀን እንደረገፉ እኛም የፆታ ብልግና አንፈጽም።\\n9  ከእነሱ አንዳንዶቹ ይሖዋን ተፈታትነው በእባቦች እንደጠፉ እኛም አንፈታተነው።\\n10  በተጨማሪም ከእነሱ አንዳንዶቹ በማጉረምረማቸው በአጥፊው እንደጠፉ አጉረምራሚዎች አትሁኑ።\\n11  እነዚህ ነገሮች ምሳሌ ይሆኑ ዘንድ በእነሱ ላይ ደረሱ፤ የተጻፉትም የሥርዓቶቹ ፍጻሜ የደረሰብንን እኛን ለማስጠንቀቅ ነው።\\n12  በመሆኑም የቆመ የሚመስለው እንዳይወድቅ ይጠንቀቅ።\\n13  በሰው ሁሉ ላይ ከሚደርሰው ፈተና የተለየ ፈተና አልደረሰባችሁም። ይሁንና አምላክ ታማኝ ነው፤ ልትሸከሙት ከምትችሉት በላይ ፈተና እንዲደርስባችሁ አይፈቅድም፤ ከዚህ ይልቅ ፈተናውን በጽናት መቋቋም እንድትችሉ ፈተና ሲደርስባችሁ መውጫ መንገዱን ያዘጋጅላችኋል።\\n14  ስለዚህ የተወደዳችሁ ወንድሞቼ፣ ከጣዖት አምልኮ ሽሹ።\\n15  ይህን የምናገረው ማስተዋል ላላቸው ሰዎች ነው፤ የምናገረው ነገር ትክክል ይሁን አይሁን እናንተ ራሳችሁ ፍረዱ።\\n16  የምንባርከው የበረከት ጽዋ ከክርስቶስ ደም መቋደስ አይደለም? የምንቆርሰውስ ቂጣ ከክርስቶስ አካል መቋደስ አይደለም?\\n17  ምክንያቱም እኛ ብዙ ብንሆንም ቂጣው አንድ ስለሆነ አንድ አካል ነን፤ ሁላችንም የምንካፈለው ከዚሁ አንድ ቂጣ ነውና።\\n18  እስቲ ሥጋዊ እስራኤላውያንን ተመልከቱ፦ መሥዋዕቱን የሚበሉት ከመሠዊያው ጋር ተቋዳሾች አይደሉም?\\n19  እንግዲህ ምን እያልኩ ነው? ለጣዖት የተሠዋ ነገር የተለየ ፋይዳ አለው ማለቴ ነው? ወይስ ጣዖት ዋጋ አለው ማለቴ ነው?\\n20  እንዲህ ማለቴ አይደለም፤ ከዚህ ይልቅ አሕዛብ መሥዋዕት አድርገው የሚያቀርቧቸውን ነገሮች የሚሠዉት ለአምላክ ሳይሆን ለአጋንንት ነው ማለቴ ነው፤ ከአጋንንት ጋር እንድትተባበሩ ደግሞ አልፈልግም።\\n21  የይሖዋን ጽዋና የአጋንንትን ጽዋ መጠጣት አትችሉም፤ “ከይሖዋ ማዕድ” እና ከአጋንንት ማዕድ መካፈል አትችሉም።\\n22  ወይስ ‘ይሖዋን እያስቀናነው ነው’? እኛ ከእሱ ይበልጥ ብርቱዎች ነን እንዴ?\\n23  ሁሉም ነገር ተፈቅዷል፤ ሆኖም ሁሉም ነገር ይጠቅማል ማለት አይደለም። ሁሉም ነገር ተፈቅዷል፤ ሆኖም ሁሉም ነገር ያንጻል ማለት አይደለም።\\n24  እያንዳንዱ ሰው ምንጊዜም የራሱን ጥቅም ሳይሆን የሌላውን ሰው ጥቅም ይፈልግ።\\n25  ከሕሊናችሁ የተነሳ ምንም ጥያቄ ሳታነሱ በሥጋ ገበያ የሚሸጠውን ማንኛውንም ነገር ብሉ፤\\n26  “ምድርና በውስጧ ያለው ነገር ሁሉ የይሖዋ ነውና።”\\n27  አማኝ ያልሆነ ሰው ቢጋብዛችሁና መሄድ ብትፈልጉ ከሕሊናችሁ የተነሳ ምንም ጥያቄ ሳታነሱ የቀረበላችሁን ሁሉ ብሉ።\\n28  ይሁንና አንድ ሰው “ይህ መሥዋዕት ሆኖ የቀረበ ነው” ቢላችሁ ይህን ለነገራችሁ ሰውና ለሕሊና ስትሉ አትብሉ።\\n29  እንዲህ ስል ስለ ራሳችሁ ሕሊና ሳይሆን ስለ ሌላው ሰው ሕሊና መናገሬ ነው። ነፃነቴ በሌላው ሰው ሕሊና ለምን ይፈረድበት?\\n30  አመስግኜ የምበላ ከሆነ ባመሰገንኩበት ነገር ለምን እነቀፋለሁ?\\n31  ስለዚህ ስትበሉም ሆነ ስትጠጡ ወይም ማንኛውንም ነገር ስታደርጉ ሁሉንም ነገር ለአምላክ ክብር አድርጉ።\\n32  ለአይሁዳውያንም ሆነ ለግሪካውያን እንዲሁም ለአምላክ ጉባኤ እንቅፋት አትሁኑ፤\\n33  እኔ ብዙዎች እንዲድኑ የእነሱን እንጂ የራሴን ጥቅም ሳልፈልግ በማደርገው ነገር ሁሉ፣ ሁሉንም ሰው ለማስደሰት እንደምጥር እናንተም እንዲሁ አድርጉ።')"
            ]
          },
          "metadata": {},
          "execution_count": 9
        }
      ],
      "source": [
        "import unicodedata\n",
        "dataset[80][\"doc_text\"], unicodedata.normalize(\"NFKD\", dataset[80][\"doc_text\"]) # dataset[32]"
      ]
    },
    {
      "cell_type": "code",
      "execution_count": null,
      "metadata": {
        "id": "o6x-Kig-B9UH"
      },
      "outputs": [],
      "source": [
        "# rename columns\n",
        "# dataset = dataset.rename_column(\"query\", \"anchor\")\n",
        "dataset = dataset.rename_column(\"doc_text\", \"positive\")"
      ]
    },
    {
      "cell_type": "code",
      "execution_count": null,
      "metadata": {
        "id": "54E8BEoCCN6_",
        "colab": {
          "base_uri": "https://localhost:8080/"
        },
        "outputId": "3c35d076-40cc-4da3-92ef-06f7ba62e634"
      },
      "outputs": [
        {
          "output_type": "execute_result",
          "data": {
            "text/plain": [
              "Dataset({\n",
              "    features: ['doc_no', 'positive', 'relevant_topic_nos', 'relevant_topic_titles', 'relevant_topic_descriptions', 'relevant_topic_narratives', 'length', 'hash_id', 'id'],\n",
              "    num_rows: 12192\n",
              "})"
            ]
          },
          "metadata": {},
          "execution_count": 11
        }
      ],
      "source": [
        "# Add an id column to the dataset\n",
        "corpus_dataset = dataset.add_column(\"id\", range(len(dataset)))\n",
        "corpus_dataset"
      ]
    },
    {
      "cell_type": "markdown",
      "metadata": {
        "id": "4GoNKHRrDN3p"
      },
      "source": [
        "#### **Create baseline and evaluate pretrained model**"
      ]
    },
    {
      "cell_type": "code",
      "execution_count": null,
      "metadata": {
        "id": "KqOtozrgDKvH"
      },
      "outputs": [],
      "source": [
        "from sentence_transformers.evaluation import InformationRetrievalEvaluator, SequentialEvaluator\n",
        "from sentence_transformers.util import cos_sim\n",
        "from datasets import load_dataset, concatenate_datasets"
      ]
    },
    {
      "cell_type": "code",
      "execution_count": null,
      "metadata": {
        "id": "3pdE7K4jHSky",
        "colab": {
          "base_uri": "https://localhost:8080/"
        },
        "outputId": "88246c93-d3b0-415b-e41d-bf559569ee88"
      },
      "outputs": [
        {
          "output_type": "execute_result",
          "data": {
            "text/plain": [
              "240"
            ]
          },
          "metadata": {},
          "execution_count": 13
        }
      ],
      "source": [
        "# Convert the datasets to dictionaries\n",
        "corpus = dict(\n",
        "    zip(corpus_dataset[\"id\"], corpus_dataset[\"positive\"])\n",
        ") # Our corpus (cid => document)\n",
        "\n",
        "query_to_pass = {}\n",
        "for row in corpus_dataset:\n",
        "  for query in row['relevant_topic_titles']:\n",
        "    if query not in query_to_pass:\n",
        "      query_to_pass[query] = []\n",
        "    query_to_pass[query].append(row['id'])\n",
        "\n",
        "# too_many_relevant = []\n",
        "# for query, relevant_ids in query_to_pass.items():\n",
        "#   if len(relevant_ids) > 80:\n",
        "#     too_many_relevant.append(query)\n",
        "\n",
        "# for query in too_many_relevant:\n",
        "#   query_to_pass.pop(query)\n",
        "\n",
        "queries = dict(\n",
        "    zip(range(len(query_to_pass)), query_to_pass.keys())\n",
        ") # Our queries (qid => question)\n",
        "\n",
        "len(query_to_pass)"
      ]
    },
    {
      "cell_type": "code",
      "execution_count": null,
      "metadata": {
        "id": "Pfj09jsPIsns",
        "colab": {
          "base_uri": "https://localhost:8080/"
        },
        "outputId": "c21fbbca-5932-4c42-d3e5-07f396bb290b"
      },
      "outputs": [
        {
          "output_type": "execute_result",
          "data": {
            "text/plain": [
              "(172, 5)"
            ]
          },
          "metadata": {},
          "execution_count": 14
        }
      ],
      "source": [
        "# Create a mapping of relevant document (1 in our case) for each query\n",
        "relevant_docs = {}\n",
        "for q_id, query in queries.items():\n",
        "  relevant_docs[q_id] = query_to_pass[query]\n",
        "\n",
        "lens = [len(l) for l in relevant_docs.values()]\n",
        "max(lens), min(lens)"
      ]
    },
    {
      "cell_type": "code",
      "execution_count": null,
      "metadata": {
        "id": "SgMhpwP2POx2",
        "colab": {
          "base_uri": "https://localhost:8080/",
          "height": 534
        },
        "outputId": "2e2ffea5-1427-4316-d1dd-fc1a52b20368"
      },
      "outputs": [
        {
          "output_type": "execute_result",
          "data": {
            "text/plain": [
              "(array([81., 56., 36., 21.,  9.,  9.,  6.,  6.,  3.,  2.,  0.,  3.,  0.,\n",
              "         3.,  1.,  0.,  1.,  1.,  1.,  1.]),\n",
              " array([  5.  ,  13.35,  21.7 ,  30.05,  38.4 ,  46.75,  55.1 ,  63.45,\n",
              "         71.8 ,  80.15,  88.5 ,  96.85, 105.2 , 113.55, 121.9 , 130.25,\n",
              "        138.6 , 146.95, 155.3 , 163.65, 172.  ]),\n",
              " <BarContainer object of 20 artists>)"
            ]
          },
          "metadata": {},
          "execution_count": 15
        },
        {
          "output_type": "display_data",
          "data": {
            "text/plain": [
              "<Figure size 640x480 with 1 Axes>"
            ],
            "image/png": "[encoded data removed]"
          },
          "metadata": {}
        }
      ],
      "source": [
        "import matplotlib.pyplot as plt\n",
        "\n",
        "plt.hist(lens, bins=20)"
      ]
    },
    {
      "cell_type": "code",
      "execution_count": null,
      "metadata": {
        "id": "KTbpkxAia9QU",
        "colab": {
          "base_uri": "https://localhost:8080/",
          "height": 447
        },
        "outputId": "7e24799c-38c0-4ba6-c1e3-eeb8fce7f075"
      },
      "outputs": [
        {
          "output_type": "execute_result",
          "data": {
            "text/plain": [
              "(12192, 15, 100, 133, 435, 598, 1199)"
            ]
          },
          "metadata": {},
          "execution_count": 16
        },
        {
          "output_type": "display_data",
          "data": {
            "text/plain": [
              "<Figure size 640x480 with 1 Axes>"
            ],
            "image/png": "[encoded data removed]"
          },
          "metadata": {}
        }
      ],
      "source": [
        "article_lengths = sorted([len(article.split()) for article in corpus_dataset[\"positive\"]])\n",
        "\n",
        "plt.hist(article_lengths)\n",
        "len(article_lengths), article_lengths[0], article_lengths[1000], article_lengths[2000], article_lengths[10000], article_lengths[11000], max(article_lengths)"
      ]
    },
    {
      "cell_type": "markdown",
      "metadata": {
        "id": "ei9-g0UmjLkA"
      },
      "source": [
        "#### **Evaluate Amharic Embedding model**\n",
        "\n",
        "List of models to evaluate:\n",
        "- intfloat/multilingual-e5-large-instruct\n",
        "- Alibaba-NLP/gte-modernbert-base\n",
        "- Alibaba-NLP/gte-multilingual-base\n"
      ]
    },
    {
      "cell_type": "code",
      "execution_count": null,
      "metadata": {
        "id": "SuqcMD9nigo5"
      },
      "outputs": [],
      "source": [
        "# BGE Small\n",
        "import torch\n",
        "from sentence_transformers import SentenceTransformer\n",
        "\n",
        "# model_id = \"rasyosef/roberta-amharic-text-embedding-base\"\n",
        "# model_id = \"rasyosef/roberta-amharic-text-embedding-medium\"\n",
        "# model_id = \"rasyosef/bert-amharic-text-embedding-medium\"\n",
        "# model_id = \"yosefw/roberta-amharic-embed-medium\"\n",
        "# model_id = \"yosefw/roberta-amharic-embed-base\"\n",
        "# model_id = \"yosefw/roberta-amharic-embed-medium-v4\"\n",
        "\n",
        "# model_id = \"rasyosef/snowflake-arctic-embed-l-v2.0-finetuned-amharic\"\n",
        "\n",
        "# # OTHER MODELS\n",
        "# model_id = \"intfloat/multilingual-e5-large-instruct\"\n",
        "# model_id = \"Alibaba-NLP/gte-modernbert-base\"\n",
        "model_id = \"Alibaba-NLP/gte-multilingual-base\"\n",
        "# model_id = \"Snowflake/snowflake-arctic-embed-l-v2.0\"\n",
        "\n",
        "# Load a model\n",
        "model = SentenceTransformer(\n",
        "    model_id,\n",
        "    device=\"cuda\" if torch.cuda.is_available() else \"cpu\",\n",
        "    trust_remote_code=True\n",
        ")"
      ]
    },
    {
      "cell_type": "code",
      "execution_count": null,
      "metadata": {
        "id": "qCZdGcu1J6NQ",
        "colab": {
          "base_uri": "https://localhost:8080/"
        },
        "outputId": "aea67ee3-5ba1-4df5-b36e-9d3f62232d72"
      },
      "outputs": [
        {
          "output_type": "stream",
          "name": "stdout",
          "text": [
            "Embedding Dimension: 768\n"
          ]
        }
      ],
      "source": [
        "EMBED_DIM = model.get_sentence_embedding_dimension()\n",
        "matryoshka_dimensions = [EMBED_DIM]\n",
        "\n",
        "print(\"Embedding Dimension:\", EMBED_DIM)\n",
        "\n",
        "matryoshka_evaluators = []\n",
        "# Iterate over the different dimensions\n",
        "for dim in matryoshka_dimensions:\n",
        "  ir_evaluator = InformationRetrievalEvaluator(\n",
        "      queries=queries,\n",
        "      corpus=corpus,\n",
        "      relevant_docs=relevant_docs,\n",
        "      batch_size=32,\n",
        "      name=f\"dim_{dim}\",\n",
        "      truncate_dim=dim,\n",
        "      score_functions={\"cosine\": cos_sim},\n",
        "      mrr_at_k=[100, 200],\n",
        "      ndcg_at_k=[100, 200],\n",
        "      precision_recall_at_k=[100, 200],\n",
        "      corpus_chunk_size=256,\n",
        "      show_progress_bar=True\n",
        "  )\n",
        "  matryoshka_evaluators.append(ir_evaluator)\n",
        "\n",
        "# Create a sequential evaluator\n",
        "evaluator = SequentialEvaluator(matryoshka_evaluators)"
      ]
    },
    {
      "cell_type": "code",
      "execution_count": null,
      "metadata": {
        "id": "ZGP_SjF750bn"
      },
      "outputs": [],
      "source": [
        "# Evaluate the model\n",
        "results = evaluator(model)"
      ]
    },
    {
      "cell_type": "code",
      "execution_count": null,
      "metadata": {
        "id": "PHmFbm-SR9Qq",
        "colab": {
          "base_uri": "https://localhost:8080/"
        },
        "outputId": "0a30f1c8-bce3-461b-858c-2d990edab46c"
      },
      "outputs": [
        {
          "output_type": "stream",
          "name": "stdout",
          "text": [
            "mrr@100: 0.879\n",
            "ndcg@100: 0.749\n",
            "recall@100: 0.79\n",
            "recall@200: 0.865\n",
            "mrr@200: 0.879\n",
            "ndcg@200: 0.777\n"
          ]
        }
      ],
      "source": [
        "dim = EMBED_DIM\n",
        "metrics = [\n",
        "\n",
        "    f\"dim_{dim}_cosine_mrr@100\",\n",
        "    f\"dim_{dim}_cosine_ndcg@100\",\n",
        "    f\"dim_{dim}_cosine_recall@100\",\n",
        "    f\"dim_{dim}_cosine_recall@200\",\n",
        "    f\"dim_{dim}_cosine_mrr@200\",\n",
        "    f\"dim_{dim}_cosine_ndcg@200\",\n",
        "  ]\n",
        "\n",
        "for key in metrics:\n",
        "  metric_name = key.split(\"_\")[-1]\n",
        "  print(f\"{metric_name}: {round(results[key], 3)}\")"
      ]
    },
    {
      "cell_type": "code",
      "source": [
        "# rasyosef/snowflake-arctic-embed-l-v2.0-finetuned-amharic\n",
        "\n",
        "# recall@100: 0.8555131629384148\n",
        "# recall@200: 0.9225609529144673\n",
        "# mrr@100: 0.8650892258612847\n",
        "# mrr@200: 0.8650892258612847\n",
        "# ndcg@100: 0.794636867505878\n",
        "# ndcg@200: 0.8205728924692759"
      ],
      "metadata": {
        "id": "yHHrwkav-FmA"
      },
      "execution_count": null,
      "outputs": []
    },
    {
      "cell_type": "code",
      "execution_count": null,
      "metadata": {
        "id": "-yfi9KSAgm9E"
      },
      "outputs": [],
      "source": [
        "# roberta-amharic-text-embedding-base\n",
        "\n",
        "# recall@100: 0.8305871818934979\n",
        "# recall@200: 0.9096175395022249\n",
        "# mrr@100: 0.8614214778277277\n",
        "# mrr@200: 0.8614514538469124\n",
        "# ndcg@100: 0.7698477319071644\n",
        "# ndcg@200: 0.8012842862416171"
      ]
    },
    {
      "cell_type": "code",
      "execution_count": null,
      "metadata": {
        "id": "JEF7LpCwMxnn"
      },
      "outputs": [],
      "source": [
        "# roberta-amharic-text-embedding-medium\n",
        "\n",
        "# recall@100: 0.7984434989468506\n",
        "# recall@200: 0.877731938693818\n",
        "# mrr@100: 0.8529819170215512\n",
        "# mrr@200: 0.8530108522067364\n",
        "# ndcg@100: 0.7354763240088282\n",
        "# ndcg@200: 0.7667789949278832"
      ]
    },
    {
      "cell_type": "code",
      "execution_count": null,
      "metadata": {
        "id": "ZG8dUvqlhOTT"
      },
      "outputs": [],
      "source": [
        "# bert-amharic-text-embedding-medium\n",
        "\n",
        "# recall@100: 0.7267090304645936\n",
        "# recall@200: 0.828525086851735\n",
        "# mrr@100: 0.8047062526368022\n",
        "# mrr@200: 0.8047811058368762\n",
        "# ndcg@100: 0.6670833483179204\n",
        "# ndcg@200: 0.7069292286532755"
      ]
    },
    {
      "cell_type": "code",
      "execution_count": null,
      "metadata": {
        "id": "ZpjRx4ZdtWLM"
      },
      "outputs": [],
      "source": [
        "# Alibaba-NLP/gte-modernbert-base\n",
        "\n",
        "# recall@100: 0.021024024209110335\n",
        "# recall@200: 0.03322214720863858\n",
        "# mrr@100: 0.04633821137542249\n",
        "# mrr@200: 0.047172489087732895\n",
        "# ndcg@100: 0.017054409723806126\n",
        "# ndcg@200: 0.021458554158770553"
      ]
    },
    {
      "cell_type": "code",
      "execution_count": null,
      "metadata": {
        "id": "NBP5rSETdPcM"
      },
      "outputs": [],
      "source": [
        "# Alibaba-NLP/gte-multilingual-base\n",
        "\n",
        "# recall@100: 0.7899475499563934\n",
        "# recall@200: 0.8647560292617974\n",
        "# mrr@100: 0.8788994277148346\n",
        "# mrr@200: 0.878931478996886\n",
        "# ndcg@100: 0.7486111327632567\n",
        "# ndcg@200: 0.7768912590561282"
      ]
    },
    {
      "cell_type": "code",
      "execution_count": null,
      "metadata": {
        "id": "Ei7fZaoMjHGe"
      },
      "outputs": [],
      "source": [
        "# intfloat/multilingual-e5-large-instruct\n",
        "\n",
        "# recall@100: 0.8531971699420808\n",
        "# recall@200: 0.9112757250859729\n",
        "# mrr@100: 0.9053893886910193\n",
        "# mrr@200: 0.9054298417654529\n",
        "# ndcg@100: 0.8079874321586658\n",
        "# ndcg@200: 0.8296889386771418"
      ]
    },
    {
      "cell_type": "code",
      "execution_count": null,
      "metadata": {
        "id": "Z48tKNoIfSdR"
      },
      "outputs": [],
      "source": [
        "# Snowflake/snowflake-arctic-embed-l-v2.0\n",
        "\n",
        "# recall@100: 0.8301237965478369\n",
        "# recall@200: 0.8973766434554113\n",
        "# mrr@100: 0.8762087948353232\n",
        "# mrr@200: 0.8762087948353232\n",
        "# ndcg@100: 0.7809149877967017\n",
        "# ndcg@200: 0.806770455429829"
      ]
    },
    {
      "cell_type": "markdown",
      "metadata": {
        "id": "mksHgOQTz_ZI"
      },
      "source": [
        "### **Example**"
      ]
    },
    {
      "cell_type": "code",
      "execution_count": null,
      "metadata": {
        "id": "oUnlkeUZmFfL",
        "colab": {
          "base_uri": "https://localhost:8080/"
        },
        "outputId": "2ae469d5-8550-4101-96f4-1c25efbe2482"
      },
      "outputs": [
        {
          "output_type": "stream",
          "name": "stdout",
          "text": [
            "tensor([[1.0000, 0.5113, 0.7750, 0.4079],\n",
            "        [0.5113, 1.0000, 0.4690, 0.5724],\n",
            "        [0.7750, 0.4690, 1.0000, 0.4150],\n",
            "        [0.4079, 0.5724, 0.4150, 1.0000]])\n"
          ]
        }
      ],
      "source": [
        "sentences = [\n",
        "  \"የተደጋገመው የመሬት መንቀጥቀጥና የእሳተ ገሞራ ምልክት በአፋር ክልል\",\n",
        "  \"የዋጋ ግሽበት በባለሙያዎች እና ነዋሪዎች አተያይ\",\n",
        "  \"ከተደጋጋሚ መሬት መንቀጥቀጥ በኋላ አፋር ክልል እሳት ከመሬት ውስጥ ሲፈላ ታይቷል፡፡ ከመሬት ውስጥ እሳትና ጭስ የሚተፋው እንፋሎቱ ዛሬ ማለዳውን 11 ሰዓት ግድም ከከባድ ፍንዳታ በኋላየተስተዋለ መሆኑን የአከባቢው ነዋሪዎች እና ባለስልጣናት ለዶቼ ቬለ ተናግረዋል፡፡ አለት የሚያፈናጥር እሳት ነው የተባለው እንፋሎቱ በክልሉ ጋቢረሱ (ዞን 03) ዱለቻ ወረዳ ሰጋንቶ ቀበሌ መከሰቱን የገለጹት የአከባቢው የአይን እማኞች ከዋናው ፍንዳታ በተጨማሪ በዙሪያው ተጨማሪ ፍንዳታዎች መታየት ቀጥሏል ባይ ናቸው፡፡\",\n",
        "  \"ለኢትዮጵያ ብሔራዊ ባንክ ዋጋን የማረጋጋት ቀዳሚ ዓላማ ጋር የተጣጣሙ የገንዘብ ፖሊሲ ምክረ ሀሳቦችን እንዲሰጥ የተቋቋመው የኢትዮጵያ ብሔራዊ ባንክ የገንዘብ ፖሊሲ ኮሚቴ እስካለፈው ህዳር ወር የነበረው እአአ የ2024 የዋጋ ግሽበት በተለይምምግብ ነክ ምርቶች ላይ ከአንድ ዓመት በፊት ከነበው ጋር ሲነጻጸር መረጋጋት ማሳየቱን ጠቁሟል፡፡ ዶይቼ ቬለ ያነጋገራቸው የአዲስ አበባ ነዋሪዎች ግን በዚህ የሚስማሙ አይመስልም፡፡ ከአምና አንጻር ያልጨመረ ነገር የለም ባይ ናቸው፡፡ የኢኮኖሚ  ባለሙያም በሰጡን አስተያየት ጭማሪው በሁሉም ረገድ የተስተዋለ በመሆኑ የመንግስት ወጪን በመቀነስ ግብርናው ላይ አተኩሮ መስራት ምናልባትም የዋጋ መረጋጋቱን ሊያመጣ ይችላል ይላሉ፡፡\"\n",
        "]\n",
        "embeddings = model.encode(sentences)\n",
        "\n",
        "# Get the similarity scores for the embeddings\n",
        "similarities = model.similarity(embeddings, embeddings)\n",
        "print(similarities)"
      ]
    },
    {
      "cell_type": "code",
      "execution_count": null,
      "metadata": {
        "id": "QyjAhXbLqDOx"
      },
      "outputs": [],
      "source": [
        "# Alibaba-NLP/gte-multilingual-base\n"
      ]
    }
  ],
  "metadata": {
    "accelerator": "GPU",
    "colab": {
      "gpuType": "A100",
      "machine_shape": "hm",
      "provenance": []
    },
    "kernelspec": {
      "display_name": "Python 3",
      "name": "python3"
    },
    "language_info": {
      "name": "python"
    }
  },
  "nbformat": 4,
  "nbformat_minor": 0
}