{
 "cells": [
  {
   "cell_type": "code",
   "execution_count": 4,
   "metadata": {},
   "outputs": [],
   "source": [
    "import os\n",
    "import json\n",
    "from pathlib import Path\n",
    "from tqdm import tqdm\n",
    "from datasets import load_dataset\n",
    "\n",
    "\n"
   ]
  },
  {
   "cell_type": "code",
   "execution_count": 5,
   "metadata": {},
   "outputs": [
    {
     "name": "stderr",
     "output_type": "stream",
     "text": [
      "Saving records: 100%|██████████| 49971/49971 [00:09<00:00, 5171.68it/s]"
     ]
    },
    {
     "name": "stdout",
     "output_type": "stream",
     "text": [
      "Dataset successfully saved to dataset/raw/amharic_news_dataset/amharic_news_classification_dataset.jsonl\n"
     ]
    },
    {
     "name": "stderr",
     "output_type": "stream",
     "text": [
      "\n"
     ]
    }
   ],
   "source": [
    "\n",
    "# Define dataset directory\n",
    "DATA_DIR = Path(\"dataset/raw/amharic_news_dataset\")\n",
    "DATA_DIR.mkdir(parents=True, exist_ok=True)  # Ensure directory exists\n",
    "\n",
    "# Load dataset from Hugging Face Hub\n",
    "DATASET_NAME = \"./amharic-news-category-classification\"\n",
    "dataset = load_dataset(DATASET_NAME)\n",
    "\n",
    "# Define output file path\n",
    "OUTPUT_FILE = DATA_DIR / \"amharic_news_classification_dataset.jsonl\"\n",
    "\n",
    "# Save dataset as JSONL with UTF-8 encoding\n",
    "with open(OUTPUT_FILE, \"w\", encoding=\"utf-8\") as f:\n",
    "    for record in tqdm(dataset[\"train\"], desc=\"Saving records\"):\n",
    "        json.dump(record, f, ensure_ascii=False)\n",
    "        f.write(\"\\n\")\n",
    "\n",
    "print(f\"Dataset successfully saved to {OUTPUT_FILE}\")\n"
   ]
  },
  {
   "cell_type": "code",
   "execution_count": null,
   "metadata": {},
   "outputs": [],
   "source": []
  }
 ],
 "metadata": {
  "kernelspec": {
   "display_name": "amharic_colbert",
   "language": "python",
   "name": "python3"
  },
  "language_info": {
   "codemirror_mode": {
    "name": "ipython",
    "version": 3
   },
   "file_extension": ".py",
   "mimetype": "text/x-python",
   "name": "python",
   "nbconvert_exporter": "python",
   "pygments_lexer": "ipython3",
   "version": "3.9.20"
  }
 },
 "nbformat": 4,
 "nbformat_minor": 2
}
