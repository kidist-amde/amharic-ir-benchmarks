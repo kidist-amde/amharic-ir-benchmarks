{
  "cells": [
    {
      "cell_type": "code",
      "execution_count": null,
      "metadata": {
        "id": "vos8ORFrA-0P"
      },
      "outputs": [],
      "source": [
        "! pip install -Uq tensorboard sentence-transformers datasets transformers"
      ]
    },
    {
      "cell_type": "code",
      "execution_count": null,
      "metadata": {
        "id": "Tv6KE-G6V6LZ"
      },
      "outputs": [],
      "source": [
        "import wandb\n",
        "wandb.init(mode=\"disabled\")"
      ]
    },
    {
      "cell_type": "code",
      "execution_count": null,
      "metadata": {
        "id": "1TA-JnrncdtI"
      },
      "outputs": [],
      "source": [
        "from datasets.utils.logging import disable_progress_bar\n",
        "disable_progress_bar()"
      ]
    },
    {
      "cell_type": "markdown",
      "metadata": {
        "id": "_jlYwO8mBWI4"
      },
      "source": [
        "#### **Create and Prepare embedding dataset**"
      ]
    },
    {
      "cell_type": "code",
      "execution_count": null,
      "metadata": {
        "colab": {
          "base_uri": "https://localhost:8080/"
        },
        "id": "RAZEttOuBNx4",
        "outputId": "ab3d4b3b-025f-479e-c320-a0bdbe227ff2"
      },
      "outputs": [
        {
          "name": "stderr",
          "output_type": "stream",
          "text": [
            "/usr/local/lib/python3.11/dist-packages/huggingface_hub/utils/_auth.py:86: UserWarning: \n",
            "Access to the secret `HF_TOKEN` has not been granted on this notebook.\n",
            "You will not be requested again.\n",
            "Please restart the session if you want to be prompted again.\n",
            "  warnings.warn(\n"
          ]
        },
        {
          "data": {
            "text/plain": [
              "Dataset({\n",
              "    features: ['query_id', 'passage_id', 'query', 'passage', 'category', 'link'],\n",
              "    num_rows: 44708\n",
              "})"
            ]
          },
          "execution_count": 4,
          "metadata": {},
          "output_type": "execute_result"
        }
      ],
      "source": [
        "from datasets import load_dataset\n",
        "\n",
        "dataset = load_dataset(\"rasyosef/amharic-passage-retrieval-dataset\", split=\"train\")\n",
        "dataset"
      ]
    },
    {
      "cell_type": "code",
      "execution_count": null,
      "metadata": {
        "id": "IO6ZPH-1rh_7"
      },
      "outputs": [],
      "source": [
        "# rename columns\n",
        "dataset = dataset.rename_column(\"query\", \"anchor\")\n",
        "dataset = dataset.rename_column(\"passage\", \"positive\")"
      ]
    },
    {
      "cell_type": "code",
      "execution_count": null,
      "metadata": {
        "colab": {
          "base_uri": "https://localhost:8080/"
        },
        "id": "Tl2lNJ--syE5",
        "outputId": "2554fe71-de85-43da-8b7f-513d59b641d0"
      },
      "outputs": [
        {
          "data": {
            "text/plain": [
              "Dataset({\n",
              "    features: ['query_id', 'passage_id', 'anchor', 'positive', 'category', 'link', 'id'],\n",
              "    num_rows: 44708\n",
              "})"
            ]
          },
          "execution_count": 6,
          "metadata": {},
          "output_type": "execute_result"
        }
      ],
      "source": [
        "# Add an id column to the dataset\n",
        "dataset = dataset.add_column(\"id\", range(len(dataset)))\n",
        "dataset"
      ]
    },
    {
      "cell_type": "code",
      "execution_count": null,
      "metadata": {
        "colab": {
          "base_uri": "https://localhost:8080/"
        },
        "id": "Z5K8B2NStVc2",
        "outputId": "f634ef6f-bd86-4005-da13-b109f337e0ab"
      },
      "outputs": [
        {
          "data": {
            "text/plain": [
              "DatasetDict({\n",
              "    train: Dataset({\n",
              "        features: ['query_id', 'passage_id', 'anchor', 'positive', 'category', 'link', 'id'],\n",
              "        num_rows: 40237\n",
              "    })\n",
              "    test: Dataset({\n",
              "        features: ['query_id', 'passage_id', 'anchor', 'positive', 'category', 'link', 'id'],\n",
              "        num_rows: 4471\n",
              "    })\n",
              "})"
            ]
          },
          "execution_count": 7,
          "metadata": {},
          "output_type": "execute_result"
        }
      ],
      "source": [
        "# Split dataset into a 10% test set\n",
        "dataset = dataset.class_encode_column(\"category\")\n",
        "dataset = dataset.train_test_split(test_size=0.1, seed=16, stratify_by_column=\"category\")\n",
        "dataset"
      ]
    },
    {
      "cell_type": "markdown",
      "metadata": {
        "id": "4GoNKHRrDN3p"
      },
      "source": [
        "#### **Create baseline and evaluate pretrained model**"
      ]
    },
    {
      "cell_type": "code",
      "execution_count": null,
      "metadata": {
        "colab": {
          "base_uri": "https://localhost:8080/"
        },
        "id": "KqOtozrgDKvH",
        "outputId": "32180a93-bbea-45a5-c365-739d497bd564"
      },
      "outputs": [
        {
          "data": {
            "text/plain": [
              "Dataset({\n",
              "    features: ['query_id', 'passage_id', 'anchor', 'positive', 'category', 'link', 'id'],\n",
              "    num_rows: 44708\n",
              "})"
            ]
          },
          "execution_count": 8,
          "metadata": {},
          "output_type": "execute_result"
        }
      ],
      "source": [
        "from datasets import concatenate_datasets\n",
        "\n",
        "train_dataset = dataset[\"train\"]\n",
        "test_dataset = dataset[\"test\"]\n",
        "corpus_dataset = concatenate_datasets([train_dataset, test_dataset])\n",
        "\n",
        "corpus_dataset"
      ]
    },
    {
      "cell_type": "code",
      "execution_count": null,
      "metadata": {
        "id": "3pdE7K4jHSky"
      },
      "outputs": [],
      "source": [
        "# Convert the datasets to dictionaries\n",
        "corpus = dict(\n",
        "    zip(corpus_dataset[\"id\"], corpus_dataset[\"positive\"])\n",
        ") # Our corpus (cid => document)\n",
        "queries = dict(\n",
        "    zip(test_dataset[\"id\"], test_dataset[\"anchor\"])\n",
        ") # Our queries (qid => question)"
      ]
    },
    {
      "cell_type": "code",
      "execution_count": null,
      "metadata": {
        "id": "Pfj09jsPIsns"
      },
      "outputs": [],
      "source": [
        "# Create a mapping of relevant document (1 in our case) for each query\n",
        "relevant_docs = {}\n",
        "for q_id in queries:\n",
        "  relevant_docs[q_id] = [q_id]"
      ]
    },
    {
      "cell_type": "markdown",
      "metadata": {
        "id": "ei9-g0UmjLkA"
      },
      "source": [
        "#### **Evaluate Amharic Embedding model**\n",
        "\n",
        "List of models to evaluate:\n",
        "- intfloat/multilingual-e5-large-instruct\n",
        "- Alibaba-NLP/gte-modernbert-base\n",
        "- Alibaba-NLP/gte-multilingual-base\n"
      ]
    },
    {
      "cell_type": "code",
      "execution_count": null,
      "metadata": {
        "id": "SuqcMD9nigo5"
      },
      "outputs": [],
      "source": [
        "import torch\n",
        "from sentence_transformers import SentenceTransformer\n",
        "\n",
        "# model_id = \"rasyosef/roberta-amharic-text-embedding-base\"\n",
        "# model_id = \"rasyosef/roberta-amharic-text-embedding-medium\"\n",
        "# model_id = \"rasyosef/bert-amharic-text-embedding-medium\"\n",
        "\n",
        "# # OTHER MODELS\n",
        "# model_id = \"intfloat/multilingual-e5-large-instruct\"\n",
        "# model_id = \"Alibaba-NLP/gte-modernbert-base\"\n",
        "# model_id = \"Alibaba-NLP/gte-multilingual-base\"\n",
        "# model_id = \"Snowflake/snowflake-arctic-embed-l-v2.0\"\n",
        "model_id = \"rasyosef/snowflake-arctic-embed-l-v2.0-finetuned-amharic\"\n",
        "\n",
        "# Load a model\n",
        "model = SentenceTransformer(\n",
        "    model_id,\n",
        "    device=\"cuda\" if torch.cuda.is_available() else \"cpu\",\n",
        "    trust_remote_code=True\n",
        ")\n",
        "\n",
        "print(model.max_seq_length)\n",
        "if model.max_seq_length > 1024:\n",
        "  model.max_seq_length = 1024\n",
        "model.max_seq_length"
      ]
    },
    {
      "cell_type": "code",
      "execution_count": null,
      "metadata": {
        "colab": {
          "base_uri": "https://localhost:8080/"
        },
        "id": "qCZdGcu1J6NQ",
        "outputId": "5f15c4f0-1d4b-46e5-c1dc-fccd42a61745"
      },
      "outputs": [
        {
          "name": "stdout",
          "output_type": "stream",
          "text": [
            "Embedding Dimension: 1024\n"
          ]
        }
      ],
      "source": [
        "from sentence_transformers.evaluation import InformationRetrievalEvaluator, SequentialEvaluator\n",
        "from sentence_transformers.util import cos_sim\n",
        "\n",
        "EMBED_DIM = model.get_sentence_embedding_dimension()\n",
        "matryoshka_dimensions = [EMBED_DIM]\n",
        "\n",
        "print(\"Embedding Dimension:\", EMBED_DIM)\n",
        "\n",
        "matryoshka_evaluators = []\n",
        "# Iterate over the different dimensions\n",
        "for dim in matryoshka_dimensions:\n",
        "  ir_evaluator = InformationRetrievalEvaluator(\n",
        "      queries=queries,\n",
        "      corpus=corpus,\n",
        "      relevant_docs=relevant_docs,\n",
        "      batch_size=256,\n",
        "      name=f\"dim_{dim}\",\n",
        "      truncate_dim=dim,\n",
        "      score_functions={\"cosine\": cos_sim},\n",
        "      mrr_at_k=[10, 100],\n",
        "      ndcg_at_k=[10, 100],\n",
        "      precision_recall_at_k=[5, 10, 50, 100],\n",
        "      corpus_chunk_size=8192,\n",
        "      show_progress_bar=True\n",
        "  )\n",
        "  matryoshka_evaluators.append(ir_evaluator)\n",
        "\n",
        "# Create a sequential evaluator\n",
        "evaluator = SequentialEvaluator(matryoshka_evaluators)"
      ]
    },
    {
      "cell_type": "code",
      "execution_count": null,
      "metadata": {
        "id": "ZGP_SjF750bn"
      },
      "outputs": [],
      "source": [
        "# Evaluate the model\n",
        "results = evaluator(model)"
      ]
    },
    {
      "cell_type": "code",
      "execution_count": null,
      "metadata": {
        "colab": {
          "base_uri": "https://localhost:8080/"
        },
        "id": "JEF7LpCwMxnn",
        "outputId": "3ed1db71-d52e-42f5-d9bb-cfd48b670bc1"
      },
      "outputs": [
        {
          "name": "stdout",
          "output_type": "stream",
          "text": [
            "recall@10: 0.942\n",
            "recall@50: 0.977\n",
            "recall@100: 0.985\n",
            "mrr@10: 0.827\n",
            "mrr@100: 0.829\n",
            "ndcg@10: 0.855\n",
            "ndcg@100: 0.865\n"
          ]
        }
      ],
      "source": [
        "# rasyosef/snowflake-arctic-embed-l-v2.0-finetuned-amharic\n",
        "\n",
        "dim = EMBED_DIM\n",
        "metrics = [\n",
        "    f\"dim_{dim}_cosine_recall@10\",\n",
        "    f\"dim_{dim}_cosine_recall@50\",\n",
        "    f\"dim_{dim}_cosine_recall@100\",\n",
        "    f\"dim_{dim}_cosine_mrr@10\",\n",
        "    f\"dim_{dim}_cosine_mrr@100\",\n",
        "    f\"dim_{dim}_cosine_ndcg@10\",\n",
        "    f\"dim_{dim}_cosine_ndcg@100\"\n",
        "  ]\n",
        "\n",
        "for key in metrics:\n",
        "  metric_name = key.split(\"_\")[-1]\n",
        "  print(f\"{metric_name}: {round(results[key], 3)}\")"
      ]
    },
    {
      "cell_type": "markdown",
      "metadata": {
        "id": "oFwOX-vgeqVb"
      },
      "source": [
        "### **Results**"
      ]
    },
    {
      "cell_type": "markdown",
      "metadata": {
        "id": "bHwXhi3defU6"
      },
      "source": [
        "##### **rasyosef/roberta-amharic-text-embedding-base**\n",
        "- recall@10: 0.913\n",
        "- recall@50: 0.964\n",
        "- recall@100: 0.979\n",
        "- mrr@10: 0.775\n",
        "- mrr@100: 0.778\n",
        "- ndcg@10: 0.808\n",
        "- ndcg@100: 0.823"
      ]
    },
    {
      "cell_type": "markdown",
      "metadata": {
        "id": "mac1gvQ_g_N9"
      },
      "source": [
        "##### **rasyosef/roberta-amharic-text-embedding-medium**\n",
        "- recall@10: 0.884\n",
        "- recall@50: 0.955\n",
        "- recall@100: 0.971\n",
        "- mrr@10: 0.735\n",
        "- mrr@100: 0.739\n",
        "- ndcg@10: 0.771\n",
        "- ndcg@100: 0.79"
      ]
    },
    {
      "cell_type": "markdown",
      "metadata": {
        "id": "KqESLADvhhai"
      },
      "source": [
        "##### **rasyosef/bert-amharic-text-embedding-medium**\n",
        "- recall@10: 0.843\n",
        "- recall@50: 0.931\n",
        "- recall@100: 0.954\n",
        "- mrr@10: 0.682\n",
        "- mrr@100: 0.686\n",
        "- ndcg@10: 0.72\n",
        "- ndcg@100: 0.744"
      ]
    },
    {
      "cell_type": "markdown",
      "metadata": {
        "id": "k5fc4yAnja1N"
      },
      "source": [
        "##### **intfloat/multilingual-e5-large-instruct**\n",
        "- recall@10: 0.825\n",
        "- recall@50: 0.911\n",
        "- recall@100: 0.931\n",
        "- mrr@10: 0.672\n",
        "- mrr@100: 0.676\n",
        "- ndcg@10: 0.709\n",
        "- ndcg@100: 0.732"
      ]
    },
    {
      "cell_type": "markdown",
      "metadata": {
        "id": "eN_VzLb9mXOd"
      },
      "source": [
        "##### **Alibaba-NLP/gte-modernbert-base**\n",
        "- recall@10: 0.033\n",
        "- recall@50: 0.051\n",
        "- recall@100: 0.067\n",
        "- mrr@10: 0.019\n",
        "- mrr@100: 0.021\n",
        "- ndcg@10: 0.023\n",
        "- ndcg@100: 0.029\n"
      ]
    },
    {
      "cell_type": "markdown",
      "metadata": {
        "id": "JP4fjxKTqe7z"
      },
      "source": [
        "##### **Alibaba-NLP/gte-multilingual-base**\n",
        "- recall@10: 0.76\n",
        "- recall@50: 0.851\n",
        "- recall@100: 0.882\n",
        "- mrr@10: 0.6\n",
        "- mrr@100: 0.605\n",
        "- ndcg@10: 0.638\n",
        "- ndcg@100: 0.664"
      ]
    },
    {
      "cell_type": "markdown",
      "metadata": {
        "id": "W0FigQrOqvhf"
      },
      "source": [
        "##### **Snowflake/snowflake-arctic-embed-l-v2.0**\n",
        "- recall@10: 0.831\n",
        "- recall@50: 0.922\n",
        "- recall@100: 0.942\n",
        "- mrr@10: 0.659\n",
        "- mrr@100: 0.664\n",
        "- ndcg@10: 0.701\n",
        "- ndcg@100: 0.725"
      ]
    },
    {
      "cell_type": "markdown",
      "metadata": {
        "id": "v-V2iXY8q9J_"
      },
      "source": [
        "##### **rasyosef/snowflake-arctic-embed-l-v2.0-finetuned-amharic**\n",
        "\n",
        "- recall@10: 0.942\n",
        "- recall@50: 0.977\n",
        "- recall@100: 0.985\n",
        "- mrr@10: 0.827\n",
        "- mrr@100: 0.829\n",
        "- ndcg@10: 0.855\n",
        "- ndcg@100: 0.865"
      ]
    },
    {
      "cell_type": "markdown",
      "metadata": {
        "id": "mksHgOQTz_ZI"
      },
      "source": [
        "### **Example**"
      ]
    },
    {
      "cell_type": "code",
      "execution_count": null,
      "metadata": {
        "colab": {
          "base_uri": "https://localhost:8080/"
        },
        "id": "oUnlkeUZmFfL",
        "outputId": "946a0019-12f2-463d-9bfe-44417baa1eda"
      },
      "outputs": [
        {
          "name": "stdout",
          "output_type": "stream",
          "text": [
            "tensor([[1.0000, 0.1400, 0.6069, 0.0815],\n",
            "        [0.1400, 1.0000, 0.0104, 0.6810],\n",
            "        [0.6069, 0.0104, 1.0000, 0.0133],\n",
            "        [0.0815, 0.6810, 0.0133, 1.0000]])\n"
          ]
        }
      ],
      "source": [
        "sentences = [\n",
        "  \"የተደጋገመው የመሬት መንቀጥቀጥና የእሳተ ገሞራ ምልክት በአፋር ክልል\",\n",
        "  \"የዋጋ ግሽበት በባለሙያዎች እና ነዋሪዎች አተያይ\",\n",
        "  \"ከተደጋጋሚ መሬት መንቀጥቀጥ በኋላ አፋር ክልል እሳት ከመሬት ውስጥ ሲፈላ ታይቷል፡፡ ከመሬት ውስጥ እሳትና ጭስ የሚተፋው እንፋሎቱ ዛሬ ማለዳውን 11 ሰዓት ግድም ከከባድ ፍንዳታ በኋላየተስተዋለ መሆኑን የአከባቢው ነዋሪዎች እና ባለስልጣናት ለዶቼ ቬለ ተናግረዋል፡፡ አለት የሚያፈናጥር እሳት ነው የተባለው እንፋሎቱ በክልሉ ጋቢረሱ (ዞን 03) ዱለቻ ወረዳ ሰጋንቶ ቀበሌ መከሰቱን የገለጹት የአከባቢው የአይን እማኞች ከዋናው ፍንዳታ በተጨማሪ በዙሪያው ተጨማሪ ፍንዳታዎች መታየት ቀጥሏል ባይ ናቸው፡፡\",\n",
        "  \"ለኢትዮጵያ ብሔራዊ ባንክ ዋጋን የማረጋጋት ቀዳሚ ዓላማ ጋር የተጣጣሙ የገንዘብ ፖሊሲ ምክረ ሀሳቦችን እንዲሰጥ የተቋቋመው የኢትዮጵያ ብሔራዊ ባንክ የገንዘብ ፖሊሲ ኮሚቴ እስካለፈው ህዳር ወር የነበረው እአአ የ2024 የዋጋ ግሽበት በተለይምምግብ ነክ ምርቶች ላይ ከአንድ ዓመት በፊት ከነበው ጋር ሲነጻጸር መረጋጋት ማሳየቱን ጠቁሟል፡፡ ዶይቼ ቬለ ያነጋገራቸው የአዲስ አበባ ነዋሪዎች ግን በዚህ የሚስማሙ አይመስልም፡፡ ከአምና አንጻር ያልጨመረ ነገር የለም ባይ ናቸው፡፡ የኢኮኖሚ  ባለሙያም በሰጡን አስተያየት ጭማሪው በሁሉም ረገድ የተስተዋለ በመሆኑ የመንግስት ወጪን በመቀነስ ግብርናው ላይ አተኩሮ መስራት ምናልባትም የዋጋ መረጋጋቱን ሊያመጣ ይችላል ይላሉ፡፡\"\n",
        "]\n",
        "embeddings = model.encode(sentences)\n",
        "\n",
        "# Get the similarity scores for the embeddings\n",
        "similarities = model.similarity(embeddings, embeddings)\n",
        "print(similarities)"
      ]
    },
    {
      "cell_type": "code",
      "execution_count": null,
      "metadata": {
        "id": "QyjAhXbLqDOx"
      },
      "outputs": [],
      "source": []
    }
  ],
  "metadata": {
    "accelerator": "GPU",
    "colab": {
      "gpuType": "A100",
      "machine_shape": "hm",
      "provenance": []
    },
    "kernelspec": {
      "display_name": "Python 3",
      "name": "python3"
    },
    "language_info": {
      "name": "python"
    }
  },
  "nbformat": 4,
  "nbformat_minor": 0
}
