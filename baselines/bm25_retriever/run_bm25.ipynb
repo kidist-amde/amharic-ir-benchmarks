{
 "cells": [
  {
   "cell_type": "code",
   "execution_count": 1,
   "metadata": {},
   "outputs": [],
   "source": [
    "import os\n",
    "import csv\n",
    "from collections import defaultdict\n",
    "from llama_index.retrievers.bm25 import BM25Retriever\n",
    "from llama_index.core import Document\n",
    "\n"
   ]
  },
  {
   "cell_type": "code",
   "execution_count": 6,
   "metadata": {},
   "outputs": [],
   "source": [
    "from pathlib import Path\n",
    "\n",
    "# Define dataset paths\n",
    "BASE_DIR = Path(\"./dataset/processed/msmarco-amharic-news_dataset/\")\n",
    "COLLECTION_PATH = BASE_DIR / \"collection.tsv\"\n",
    "QUERIES_PATH = BASE_DIR / \"queries_train.tsv\"\n",
    "QRELS_PATH = BASE_DIR / \"qrels_train.txt\"\n",
    "\n",
    "# Define output path\n",
    "OUTPUT_DIR = Path(\"outputs\")\n",
    "OUTPUT_DIR.mkdir(parents=True, exist_ok=True)  # Ensure the directory exists\n",
    "BM25_RANKINGS_PATH = OUTPUT_DIR / \"bm25_rankings.tsv\"\n"
   ]
  },
  {
   "cell_type": "code",
   "execution_count": 7,
   "metadata": {},
   "outputs": [
    {
     "name": "stdout",
     "output_type": "stream",
     "text": [
      "Loaded 49780 documents.\n"
     ]
    }
   ],
   "source": [
    "### Step 1: Load Collection (doc_id → text)\n",
    "corpus = {}\n",
    "with open(COLLECTION_PATH, \"r\", encoding=\"utf-8\") as f:\n",
    "    reader = csv.reader(f, delimiter=\"\\t\")\n",
    "    for row in reader:\n",
    "        if len(row) < 2:\n",
    "            continue\n",
    "        doc_id, doc_text = row[:2]\n",
    "        corpus[doc_id] = doc_text  # Keep doc_id as string if necessary\n",
    "\n",
    "print(f\"Loaded {len(corpus)} documents.\")"
   ]
  },
  {
   "cell_type": "code",
   "execution_count": 8,
   "metadata": {},
   "outputs": [
    {
     "name": "stdout",
     "output_type": "stream",
     "text": [
      " Loaded 39729 queries.\n"
     ]
    }
   ],
   "source": [
    "### Step 2: Load Queries (qid → text)\n",
    "queries = {}\n",
    "with open(QUERIES_PATH, \"r\", encoding=\"utf-8\") as f:\n",
    "    reader = csv.reader(f, delimiter=\"\\t\")\n",
    "    for row in reader:\n",
    "        if len(row) < 2:\n",
    "            continue\n",
    "        qid, query_text = row[:2]\n",
    "        queries[qid] = query_text  # Keep qid as string if necessary\n",
    "\n",
    "print(f\" Loaded {len(queries)} queries.\")"
   ]
  },
  {
   "cell_type": "code",
   "execution_count": 9,
   "metadata": {},
   "outputs": [
    {
     "name": "stdout",
     "output_type": "stream",
     "text": [
      "BM25 Retriever initialized.\n"
     ]
    }
   ],
   "source": [
    "### Step 3: Convert Collection to Documents (for BM25)\n",
    "documents = [\n",
    "    Document(text=corpus[doc_id], doc_id=doc_id) for doc_id in corpus\n",
    "]\n",
    "\n",
    "###  Step 4: Train BM25 Retriever\n",
    "bm25_retriever = BM25Retriever.from_defaults(\n",
    "    nodes=documents, \n",
    "    similarity_top_k=100\n",
    ")\n",
    "\n",
    "print(f\"BM25 Retriever initialized.\")"
   ]
  },
  {
   "cell_type": "code",
   "execution_count": 11,
   "metadata": {},
   "outputs": [
    {
     "name": "stdout",
     "output_type": "stream",
     "text": [
      "Saved top 100 BM25 retrieval results to outputs/bm25_rankings.tsv\n"
     ]
    }
   ],
   "source": [
    "### Step 5: Retrieve Top 100 & Save Results in MSMARCO Format (No Header)\n",
    "with open(BM25_RANKINGS_PATH, \"w\", encoding=\"utf-8\") as f:\n",
    "    writer = csv.writer(f, delimiter=\"\\t\")\n",
    "\n",
    "    for qid, query in queries.items():\n",
    "        results = bm25_retriever.retrieve(query)  # Retrieve top 100\n",
    "        \n",
    "        for rank, node in enumerate(results[:100], start=1):  \n",
    "            writer.writerow([qid, node.node_id, rank, node.score])  # Save without header\n",
    "#[\"qid\", \"doc_id\", \"rank\", \"score\"]\n",
    "print(f\"Saved top 100 BM25 retrieval results to {BM25_RANKINGS_PATH}\")"
   ]
  },
  {
   "cell_type": "code",
   "execution_count": null,
   "metadata": {},
   "outputs": [],
   "source": []
  }
 ],
 "metadata": {
  "kernelspec": {
   "display_name": "amharic_colbert",
   "language": "python",
   "name": "python3"
  },
  "language_info": {
   "codemirror_mode": {
    "name": "ipython",
    "version": 3
   },
   "file_extension": ".py",
   "mimetype": "text/x-python",
   "name": "python",
   "nbconvert_exporter": "python",
   "pygments_lexer": "ipython3",
   "version": "3.9.20"
  }
 },
 "nbformat": 4,
 "nbformat_minor": 2
}
